{
 "cells": [
  {
   "cell_type": "code",
   "execution_count": null,
   "id": "4b4bb32b",
   "metadata": {},
   "outputs": [],
   "source": [
    "import numpy as np # used for scientific computing\n",
    "import pandas as pd # used for data analysis and manipulation\n",
    "import matplotlib.pyplot as plt # used for visualization and plotting\n",
    "from sklearn import preprocessing # used for label encoder\n",
    "from sklearn.metrics import r2_score, mean_absolute_error\n",
    "from sklearn.model_selection import train_test_split, cross_val_score\n",
    "from sklearn.preprocessing import OneHotEncoder\n",
    "from sklearn.ensemble import RandomForestRegressor\n",
    "from sklearn.pipeline import make_pipeline\n",
    "from sklearn.compose import make_column_transformer\n",
    "from sklearn.metrics import mean_squared_error, mean_absolute_error, r2_score\n",
    "\n",
    "\n",
    "def eval_metrics(actual, pred):\n",
    "    rmse = np.sqrt(mean_squared_error(actual, pred))\n",
    "    mae = mean_absolute_error(actual, pred)\n",
    "    r2 = r2_score(actual, pred)\n",
    "    return rmse, mae, r2\n",
    "\n",
    "df = pd.read_csv('vehicles.csv')\n",
    "\n",
    "### Take outliers out ###\n",
    "betterdf = df[df['odometer'] < 150000]\n",
    "betterdf = betterdf[betterdf['odometer'] > 50]\n",
    "betterdf = betterdf[betterdf['year'] > 1940]\n",
    "betterdf = betterdf[betterdf['price'] > 500]\n",
    "betterdf = betterdf[betterdf['price'] < 200000]\n",
    "\n",
    "y = betterdf['price']\n",
    "X = betterdf.drop(['id', 'url', 'region_url', 'VIN', 'description', 'paint_color', 'image_url', 'county', 'state', 'posting_date'], axis=1)\n",
    "\n",
    "\n",
    "\n",
    "\n",
    "X_train, X_test, y_train, y_test = train_test_split(X, y)\n",
    "\n",
    "model = RandomForestRegressor(n_estimators=10, random_state=0)\n",
    "\n",
    "model.fit(X_train, y_train)\n",
    "\n",
    "pred = model.predict(X_test)\n",
    "\n",
    "rmse, mae, r2 = eval_metrics(y_test, pred)\n",
    "\n",
    "print(\"RMSE: \" + str(rmse))\n",
    "print(\"MAE: \" + str(mae))\n",
    "print(\"r2: \" + str(r2))"
   ]
  },
  {
   "cell_type": "code",
   "execution_count": null,
   "id": "9eae7a58",
   "metadata": {},
   "outputs": [],
   "source": []
  }
 ],
 "metadata": {
  "kernelspec": {
   "display_name": "Python 3 (ipykernel)",
   "language": "python",
   "name": "python3"
  },
  "language_info": {
   "codemirror_mode": {
    "name": "ipython",
    "version": 3
   },
   "file_extension": ".py",
   "mimetype": "text/x-python",
   "name": "python",
   "nbconvert_exporter": "python",
   "pygments_lexer": "ipython3",
   "version": "3.9.7"
  }
 },
 "nbformat": 4,
 "nbformat_minor": 5
}
