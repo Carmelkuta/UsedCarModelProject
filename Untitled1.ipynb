{
 "cells": [
  {
   "cell_type": "code",
   "execution_count": null,
   "id": "0e26f6a3",
   "metadata": {},
   "outputs": [
    {
     "name": "stdout",
     "output_type": "stream",
     "text": [
      "<class 'pandas.core.frame.DataFrame'>\n",
      "Int64Index: 302048 entries, 27 to 426879\n",
      "Data columns (total 16 columns):\n",
      " #   Column        Non-Null Count   Dtype  \n",
      "---  ------        --------------   -----  \n",
      " 0   region        302048 non-null  object \n",
      " 1   price         302048 non-null  int64  \n",
      " 2   year          302048 non-null  float64\n",
      " 3   manufacturer  292157 non-null  object \n",
      " 4   model         299096 non-null  object \n",
      " 5   condition     188678 non-null  object \n",
      " 6   cylinders     174534 non-null  object \n",
      " 7   fuel          300302 non-null  object \n",
      " 8   odometer      302048 non-null  float64\n",
      " 9   title_status  296981 non-null  object \n",
      " 10  transmission  300799 non-null  object \n",
      " 11  drive         211141 non-null  object \n",
      " 12  size          78212 non-null   object \n",
      " 13  type          245372 non-null  object \n",
      " 14  lat           299147 non-null  float64\n",
      " 15  long          299147 non-null  float64\n",
      "dtypes: float64(4), int64(1), object(11)\n",
      "memory usage: 39.2+ MB\n",
      "<class 'pandas.core.frame.DataFrame'>\n",
      "Int64Index: 302048 entries, 27 to 426879\n",
      "Columns: 22681 entries, year to type_wagon\n",
      "dtypes: float64(4), uint8(22677)\n",
      "memory usage: 6.4 GB\n"
     ]
    }
   ],
   "source": [
    "import numpy as np # used for scientific computing\n",
    "import pandas as pd # used for data analysis and manipulation\n",
    "from sklearn.preprocessing import OneHotEncoder\n",
    "\n",
    "df = pd.read_csv('vehicles.csv')\n",
    "df = df.drop(labels=range(0,27), axis=0)\n",
    "\n",
    "### Take outliers out ###\n",
    "betterdf = df[df['odometer'] < 150000]\n",
    "betterdf = betterdf[betterdf['odometer'] > 50]\n",
    "betterdf = betterdf[betterdf['year'] > 1940]\n",
    "betterdf = betterdf[betterdf['price'] > 500]\n",
    "betterdf = betterdf[betterdf['price'] < 200000]\n",
    "\n",
    "#### Drop Useless Columns ####\n",
    "betterdf = betterdf.drop(['id', 'url', 'region_url', 'VIN', 'description', 'paint_color', 'image_url', 'county', 'state', 'posting_date'], axis=1)\n",
    "betterdf.info()\n",
    "\n",
    "columns = [col for col in betterdf.columns if betterdf[col].dtype==\"O\"]\n",
    "\n",
    "betterdf_cat = betterdf.loc[:, betterdf.dtypes==object]\n",
    "betterdf_num = betterdf.loc[:, betterdf.dtypes==float]\n",
    "\n",
    "betterdf_cat.fillna(\"unknown\")\n",
    "betterdf_num.fillna(0.0)\n",
    "\n",
    "for column in columns:\n",
    "    tempdf = pd.get_dummies(betterdf_cat[column], prefix=column)\n",
    "\n",
    "    betterdf_cat = pd.merge(\n",
    "        left=betterdf_cat,\n",
    "        right=tempdf,\n",
    "        left_index=True,\n",
    "        right_index=True,\n",
    "    )\n",
    "\n",
    "    betterdf_cat = betterdf_cat.drop(columns=column)\n",
    "\n",
    "betterdf = pd.concat([betterdf_num, betterdf_cat], axis=1, join='inner')\n",
    "\n",
    "betterdf.info()\n",
    "\n",
    "betterdf.to_csv('vehicles_cleaned.csv')"
   ]
  },
  {
   "cell_type": "code",
   "execution_count": null,
   "id": "7619e663",
   "metadata": {},
   "outputs": [],
   "source": [
    " "
   ]
  }
 ],
 "metadata": {
  "kernelspec": {
   "display_name": "Python 3 (ipykernel)",
   "language": "python",
   "name": "python3"
  },
  "language_info": {
   "codemirror_mode": {
    "name": "ipython",
    "version": 3
   },
   "file_extension": ".py",
   "mimetype": "text/x-python",
   "name": "python",
   "nbconvert_exporter": "python",
   "pygments_lexer": "ipython3",
   "version": "3.9.7"
  }
 },
 "nbformat": 4,
 "nbformat_minor": 5
}
